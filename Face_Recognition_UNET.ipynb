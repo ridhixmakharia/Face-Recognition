{
  "cells": [
    {
      "cell_type": "markdown",
      "metadata": {
        "id": "view-in-github",
        "colab_type": "text"
      },
      "source": [
        "<a href=\"https://colab.research.google.com/github/ridhixmakharia/Face-Recognition/blob/main/Face_Recognition_UNET.ipynb\" target=\"_parent\"><img src=\"https://colab.research.google.com/assets/colab-badge.svg\" alt=\"Open In Colab\"/></a>"
      ]
    },
    {
      "cell_type": "code",
      "source": [
        "drive_path = \"/content/drive/MyDrive\""
      ],
      "metadata": {
        "id": "lobkus8RxyWn"
      },
      "id": "lobkus8RxyWn",
      "execution_count": 1,
      "outputs": []
    },
    {
      "cell_type": "markdown",
      "id": "2e64d193",
      "metadata": {
        "id": "2e64d193"
      },
      "source": [
        "# Imports"
      ]
    },
    {
      "cell_type": "code",
      "execution_count": 2,
      "id": "7b09e822",
      "metadata": {
        "id": "7b09e822"
      },
      "outputs": [],
      "source": [
        "import os\n",
        "import numpy as np\n",
        "import cv2\n",
        "from glob import glob\n",
        "import tensorflow as tf\n",
        "from tensorflow.keras.layers import Input, Conv2D, BatchNormalization, Activation, MaxPool2D, Conv2DTranspose, Concatenate\n",
        "from tensorflow.keras.models import Model\n",
        "from tensorflow.keras.callbacks import EarlyStopping, ModelCheckpoint, ReduceLROnPlateau, CSVLogger"
      ]
    },
    {
      "cell_type": "markdown",
      "id": "8b642642",
      "metadata": {
        "id": "8b642642"
      },
      "source": [
        "# Seeding"
      ]
    },
    {
      "cell_type": "code",
      "source": [
        "from google.colab import drive\n",
        "drive.mount(\"/content/drive/\")"
      ],
      "metadata": {
        "colab": {
          "base_uri": "https://localhost:8080/"
        },
        "id": "vMtnFZbJxgSd",
        "outputId": "aada218e-6a4d-4c8e-b222-5baf0e4e4f1c"
      },
      "id": "vMtnFZbJxgSd",
      "execution_count": 3,
      "outputs": [
        {
          "output_type": "stream",
          "name": "stdout",
          "text": [
            "Mounted at /content/drive/\n"
          ]
        }
      ]
    },
    {
      "cell_type": "code",
      "execution_count": 4,
      "id": "bcfcbef7",
      "metadata": {
        "id": "bcfcbef7"
      },
      "outputs": [],
      "source": [
        "os.environ[\"PYTHONHASHSEED\"] = str(42)\n",
        "np.random.seed(42)\n",
        "tf.random.set_seed(42)"
      ]
    },
    {
      "cell_type": "markdown",
      "id": "c5acb4d2",
      "metadata": {
        "id": "c5acb4d2"
      },
      "source": [
        "# Hyperparameters"
      ]
    },
    {
      "cell_type": "code",
      "execution_count": 5,
      "id": "0075a462",
      "metadata": {
        "id": "0075a462"
      },
      "outputs": [],
      "source": [
        "batch_size = 4\n",
        "lr = 1e-4\n",
        "epochs = 50\n",
        "height = 768\n",
        "width = 512"
      ]
    },
    {
      "cell_type": "markdown",
      "id": "ac405e89",
      "metadata": {
        "id": "ac405e89"
      },
      "source": [
        "# Path"
      ]
    },
    {
      "cell_type": "code",
      "execution_count": 6,
      "id": "9583d03e",
      "metadata": {
        "id": "9583d03e"
      },
      "outputs": [],
      "source": [
        "dataset_path = os.path.join(drive_path, \"Dataset\", \"aug\")\n",
        "files_dir = os.path.join(\"Colab Notebooks\",\"files\", \"aug\")\n",
        "model_file = os.path.join(files_dir, \"unet-aug.h5\")\n",
        "log_file = os.path.join(files_dir, \"log-aug.csv\")"
      ]
    },
    {
      "cell_type": "markdown",
      "id": "8e5d3101",
      "metadata": {
        "id": "8e5d3101"
      },
      "source": [
        "# Creating Folder"
      ]
    },
    {
      "cell_type": "code",
      "execution_count": 7,
      "id": "5a9fd690",
      "metadata": {
        "id": "5a9fd690"
      },
      "outputs": [],
      "source": [
        "def create_dir(path):\n",
        "    if not os.path.exists(path):\n",
        "        os.makedirs(path)"
      ]
    },
    {
      "cell_type": "code",
      "execution_count": 8,
      "id": "79b6263b",
      "metadata": {
        "id": "79b6263b"
      },
      "outputs": [],
      "source": [
        "create_dir(files_dir)"
      ]
    },
    {
      "cell_type": "markdown",
      "id": "cb4fa6d9",
      "metadata": {
        "id": "cb4fa6d9"
      },
      "source": [
        "# Building UNET"
      ]
    },
    {
      "cell_type": "markdown",
      "id": "dde1435b",
      "metadata": {
        "id": "dde1435b"
      },
      "source": [
        "## Conv Block"
      ]
    },
    {
      "cell_type": "code",
      "execution_count": 9,
      "id": "2a25962e",
      "metadata": {
        "id": "2a25962e"
      },
      "outputs": [],
      "source": [
        "def conv_block(inputs, num_filters):\n",
        "    x = Conv2D(num_filters, 3, padding=\"same\")(inputs)\n",
        "    #padding is the same to maintain the same shape for the putput feature map as the input\n",
        "    x = BatchNormalization()(x)\n",
        "    x = Activation(\"relu\")(x)\n",
        "    x = Conv2D(num_filters, 3, padding=\"same\")(x)\n",
        "    #padding is the same to maintain the same shape for the putput feature map as the input\n",
        "    x = BatchNormalization()(x)\n",
        "    x = Activation(\"relu\")(x)\n",
        "    return x"
      ]
    },
    {
      "cell_type": "markdown",
      "id": "c588eeb7",
      "metadata": {
        "id": "c588eeb7"
      },
      "source": [
        "## Encoder"
      ]
    },
    {
      "cell_type": "code",
      "execution_count": 10,
      "id": "38b49f92",
      "metadata": {
        "id": "38b49f92"
      },
      "outputs": [],
      "source": [
        "def encoder_block(inputs, num_filters):\n",
        "    x = conv_block(inputs, num_filters)\n",
        "    p = MaxPool2D((2,2))(x)\n",
        "    return x, p"
      ]
    },
    {
      "cell_type": "markdown",
      "id": "b2158385",
      "metadata": {
        "id": "b2158385"
      },
      "source": [
        "## Decoder"
      ]
    },
    {
      "cell_type": "code",
      "execution_count": 11,
      "id": "fadc5a41",
      "metadata": {
        "id": "fadc5a41"
      },
      "outputs": [],
      "source": [
        "def decoder_block(inputs, skip, num_filters):\n",
        "    x = Conv2DTranspose(num_filters, (2,2), strides=2, padding=\"same\")(inputs)\n",
        "    x = Concatenate()([x, skip])\n",
        "    x = conv_block(x, num_filters)\n",
        "    return x"
      ]
    },
    {
      "cell_type": "markdown",
      "id": "2a7f6cf8",
      "metadata": {
        "id": "2a7f6cf8"
      },
      "source": [
        "## UNET"
      ]
    },
    {
      "cell_type": "code",
      "execution_count": 12,
      "id": "2cd91a7e",
      "metadata": {
        "id": "2cd91a7e"
      },
      "outputs": [],
      "source": [
        "def build_unet(input_shape):\n",
        "    inputs = Input(input_shape)\n",
        "\n",
        "    \"\"\" ENCODER \"\"\"\n",
        "    s1, p1 = encoder_block(inputs, 64)\n",
        "    s2, p2 = encoder_block(p1, 128)\n",
        "    s3, p3 = encoder_block(p2, 256)\n",
        "    s4, p4 = encoder_block(p3, 512)\n",
        "\n",
        "    \"\"\" BRIDGE \"\"\"\n",
        "    b1 = conv_block(p4, 1024)\n",
        "\n",
        "    \"\"\" DECODER \"\"\"\n",
        "    d1 = decoder_block(b1, s4, 512)\n",
        "    d2 = decoder_block(d1, s3, 256)\n",
        "    d3 = decoder_block(d2, s2, 128)\n",
        "    d4 = decoder_block(d3, s1, 64)\n",
        "\n",
        "    outputs = Conv2D(1, 1, padding = \"same\", activation = \"sigmoid\")(d4)\n",
        "    model = Model(inputs, outputs, name=\"UNET\")\n",
        "    return model"
      ]
    },
    {
      "cell_type": "markdown",
      "id": "5214b63f",
      "metadata": {
        "id": "5214b63f"
      },
      "source": [
        "# Dataset Pipeline"
      ]
    },
    {
      "cell_type": "markdown",
      "id": "0c2d1533",
      "metadata": {
        "id": "0c2d1533"
      },
      "source": [
        "## Loading training and validation dataset"
      ]
    },
    {
      "cell_type": "code",
      "execution_count": 13,
      "id": "c85df156",
      "metadata": {
        "id": "c85df156"
      },
      "outputs": [],
      "source": [
        "def load_data(path):\n",
        "    train_x = sorted(glob(os.path.join(path, \"train\",\"images\", \"*\")))\n",
        "    train_y = sorted(glob(os.path.join(path, \"train\",\"masks\", \"*\")))\n",
        "\n",
        "    valid_x = sorted(glob(os.path.join(path, \"valid\",\"images\", \"*\")))\n",
        "    valid_y = sorted(glob(os.path.join(path, \"valid\",\"masks\", \"*\")))\n",
        "\n",
        "    return (train_x, train_y), (valid_x, valid_y)"
      ]
    },
    {
      "cell_type": "markdown",
      "id": "8d719743",
      "metadata": {
        "id": "8d719743"
      },
      "source": [
        "## Reading Images"
      ]
    },
    {
      "cell_type": "code",
      "execution_count": 14,
      "id": "f217ca89",
      "metadata": {
        "id": "f217ca89"
      },
      "outputs": [],
      "source": [
        "def read_image(path):\n",
        "    path = path.decode()\n",
        "    x = cv2.imread(path, cv2.IMREAD_COLOR)\n",
        "    x = x/255.0\n",
        "    return x"
      ]
    },
    {
      "cell_type": "markdown",
      "id": "e07ea55e",
      "metadata": {
        "id": "e07ea55e"
      },
      "source": [
        "## Reading Mask"
      ]
    },
    {
      "cell_type": "code",
      "execution_count": 15,
      "id": "b6c526e5",
      "metadata": {
        "id": "b6c526e5"
      },
      "outputs": [],
      "source": [
        "def read_mask(path):\n",
        "    path = path.decode()\n",
        "    x = cv2.imread(path, cv2.IMREAD_GRAYSCALE)\n",
        "    x = x/255.0\n",
        "    x = np.expand_dims(x, axis=-1)\n",
        "    return x"
      ]
    },
    {
      "cell_type": "markdown",
      "id": "c0134a21",
      "metadata": {
        "id": "c0134a21"
      },
      "source": [
        "## tf.data.pipeline"
      ]
    },
    {
      "cell_type": "code",
      "execution_count": 16,
      "id": "77fd7aad",
      "metadata": {
        "id": "77fd7aad"
      },
      "outputs": [],
      "source": [
        "def tf_parse(x, y):\n",
        "    def _parse(x, y):\n",
        "        x = read_image(x)\n",
        "        y = read_mask(y)\n",
        "        return x, y\n",
        "\n",
        "    x, y = tf.numpy_function(_parse, [x,y], [tf.float64, tf.float64])\n",
        "    x.set_shape([height, width, 3])\n",
        "    y.set_shape([height, width, 1])\n",
        "    return x, y"
      ]
    },
    {
      "cell_type": "code",
      "execution_count": 17,
      "id": "f354ebb3",
      "metadata": {
        "id": "f354ebb3"
      },
      "outputs": [],
      "source": [
        "def tf_dataset(x, y, batch = 8):\n",
        "    dataset = tf.data.Dataset.from_tensor_slices((x,y))\n",
        "    dataset = dataset.map(tf_parse, num_parallel_calls = tf.data.AUTOTUNE)\n",
        "    dataset = dataset.batch(batch)\n",
        "    dataset = dataset.prefetch(tf.data.AUTOTUNE)\n",
        "    return dataset"
      ]
    },
    {
      "cell_type": "markdown",
      "id": "8e068357",
      "metadata": {
        "id": "8e068357"
      },
      "source": [
        "# Training"
      ]
    },
    {
      "cell_type": "code",
      "execution_count": 18,
      "id": "d989b635",
      "metadata": {
        "colab": {
          "base_uri": "https://localhost:8080/"
        },
        "id": "d989b635",
        "outputId": "45be9c44-2b24-4489-a7c3-9bd2c21d6e66"
      },
      "outputs": [
        {
          "output_type": "stream",
          "name": "stdout",
          "text": [
            "Train: 300 - 300\n",
            "Valid: 19 - 19\n"
          ]
        }
      ],
      "source": [
        "(train_x, train_y), (valid_x, valid_y) = load_data(dataset_path)\n",
        "print(f\"Train: {len(train_x)} - {len(train_y)}\")\n",
        "print(f\"Valid: {len(valid_x)} - {len(valid_y)}\")"
      ]
    },
    {
      "cell_type": "code",
      "execution_count": 18,
      "id": "4b6123a9",
      "metadata": {
        "scrolled": true,
        "id": "4b6123a9"
      },
      "outputs": [],
      "source": []
    },
    {
      "cell_type": "code",
      "execution_count": 19,
      "id": "8065df6f",
      "metadata": {
        "id": "8065df6f"
      },
      "outputs": [],
      "source": [
        "train_dataset = tf_dataset(train_x, train_y, batch=batch_size)\n",
        "valid_dataset = tf_dataset(valid_x, valid_y, batch=batch_size)"
      ]
    },
    {
      "cell_type": "code",
      "execution_count": 20,
      "id": "a848582a",
      "metadata": {
        "id": "a848582a",
        "colab": {
          "base_uri": "https://localhost:8080/"
        },
        "outputId": "0a207857-0ac0-4952-99fe-88c1aa9ac754"
      },
      "outputs": [
        {
          "output_type": "stream",
          "name": "stdout",
          "text": [
            "<_PrefetchDataset element_spec=(TensorSpec(shape=(None, 768, 512, 3), dtype=tf.float64, name=None), TensorSpec(shape=(None, 768, 512, 1), dtype=tf.float64, name=None))>\n"
          ]
        }
      ],
      "source": [
        "print(train_dataset)"
      ]
    },
    {
      "cell_type": "code",
      "execution_count": 21,
      "id": "575c7c4b",
      "metadata": {
        "id": "575c7c4b"
      },
      "outputs": [],
      "source": [
        "#for x, y in train_dataset:\n",
        "    #print(x, y)"
      ]
    },
    {
      "cell_type": "code",
      "execution_count": 22,
      "id": "0e43e974",
      "metadata": {
        "id": "0e43e974"
      },
      "outputs": [],
      "source": [
        "input_shape = (height, width, 3)\n",
        "model = build_unet(input_shape)"
      ]
    },
    {
      "cell_type": "code",
      "execution_count": 23,
      "id": "0d20e5d2",
      "metadata": {
        "id": "0d20e5d2",
        "colab": {
          "base_uri": "https://localhost:8080/"
        },
        "outputId": "b6daf0ef-f77c-4186-915a-e89d38a91330"
      },
      "outputs": [
        {
          "output_type": "stream",
          "name": "stdout",
          "text": [
            "Model: \"UNET\"\n",
            "__________________________________________________________________________________________________\n",
            " Layer (type)                Output Shape                 Param #   Connected to                  \n",
            "==================================================================================================\n",
            " input_1 (InputLayer)        [(None, 768, 512, 3)]        0         []                            \n",
            "                                                                                                  \n",
            " conv2d (Conv2D)             (None, 768, 512, 64)         1792      ['input_1[0][0]']             \n",
            "                                                                                                  \n",
            " batch_normalization (Batch  (None, 768, 512, 64)         256       ['conv2d[0][0]']              \n",
            " Normalization)                                                                                   \n",
            "                                                                                                  \n",
            " activation (Activation)     (None, 768, 512, 64)         0         ['batch_normalization[0][0]'] \n",
            "                                                                                                  \n",
            " conv2d_1 (Conv2D)           (None, 768, 512, 64)         36928     ['activation[0][0]']          \n",
            "                                                                                                  \n",
            " batch_normalization_1 (Bat  (None, 768, 512, 64)         256       ['conv2d_1[0][0]']            \n",
            " chNormalization)                                                                                 \n",
            "                                                                                                  \n",
            " activation_1 (Activation)   (None, 768, 512, 64)         0         ['batch_normalization_1[0][0]'\n",
            "                                                                    ]                             \n",
            "                                                                                                  \n",
            " max_pooling2d (MaxPooling2  (None, 384, 256, 64)         0         ['activation_1[0][0]']        \n",
            " D)                                                                                               \n",
            "                                                                                                  \n",
            " conv2d_2 (Conv2D)           (None, 384, 256, 128)        73856     ['max_pooling2d[0][0]']       \n",
            "                                                                                                  \n",
            " batch_normalization_2 (Bat  (None, 384, 256, 128)        512       ['conv2d_2[0][0]']            \n",
            " chNormalization)                                                                                 \n",
            "                                                                                                  \n",
            " activation_2 (Activation)   (None, 384, 256, 128)        0         ['batch_normalization_2[0][0]'\n",
            "                                                                    ]                             \n",
            "                                                                                                  \n",
            " conv2d_3 (Conv2D)           (None, 384, 256, 128)        147584    ['activation_2[0][0]']        \n",
            "                                                                                                  \n",
            " batch_normalization_3 (Bat  (None, 384, 256, 128)        512       ['conv2d_3[0][0]']            \n",
            " chNormalization)                                                                                 \n",
            "                                                                                                  \n",
            " activation_3 (Activation)   (None, 384, 256, 128)        0         ['batch_normalization_3[0][0]'\n",
            "                                                                    ]                             \n",
            "                                                                                                  \n",
            " max_pooling2d_1 (MaxPoolin  (None, 192, 128, 128)        0         ['activation_3[0][0]']        \n",
            " g2D)                                                                                             \n",
            "                                                                                                  \n",
            " conv2d_4 (Conv2D)           (None, 192, 128, 256)        295168    ['max_pooling2d_1[0][0]']     \n",
            "                                                                                                  \n",
            " batch_normalization_4 (Bat  (None, 192, 128, 256)        1024      ['conv2d_4[0][0]']            \n",
            " chNormalization)                                                                                 \n",
            "                                                                                                  \n",
            " activation_4 (Activation)   (None, 192, 128, 256)        0         ['batch_normalization_4[0][0]'\n",
            "                                                                    ]                             \n",
            "                                                                                                  \n",
            " conv2d_5 (Conv2D)           (None, 192, 128, 256)        590080    ['activation_4[0][0]']        \n",
            "                                                                                                  \n",
            " batch_normalization_5 (Bat  (None, 192, 128, 256)        1024      ['conv2d_5[0][0]']            \n",
            " chNormalization)                                                                                 \n",
            "                                                                                                  \n",
            " activation_5 (Activation)   (None, 192, 128, 256)        0         ['batch_normalization_5[0][0]'\n",
            "                                                                    ]                             \n",
            "                                                                                                  \n",
            " max_pooling2d_2 (MaxPoolin  (None, 96, 64, 256)          0         ['activation_5[0][0]']        \n",
            " g2D)                                                                                             \n",
            "                                                                                                  \n",
            " conv2d_6 (Conv2D)           (None, 96, 64, 512)          1180160   ['max_pooling2d_2[0][0]']     \n",
            "                                                                                                  \n",
            " batch_normalization_6 (Bat  (None, 96, 64, 512)          2048      ['conv2d_6[0][0]']            \n",
            " chNormalization)                                                                                 \n",
            "                                                                                                  \n",
            " activation_6 (Activation)   (None, 96, 64, 512)          0         ['batch_normalization_6[0][0]'\n",
            "                                                                    ]                             \n",
            "                                                                                                  \n",
            " conv2d_7 (Conv2D)           (None, 96, 64, 512)          2359808   ['activation_6[0][0]']        \n",
            "                                                                                                  \n",
            " batch_normalization_7 (Bat  (None, 96, 64, 512)          2048      ['conv2d_7[0][0]']            \n",
            " chNormalization)                                                                                 \n",
            "                                                                                                  \n",
            " activation_7 (Activation)   (None, 96, 64, 512)          0         ['batch_normalization_7[0][0]'\n",
            "                                                                    ]                             \n",
            "                                                                                                  \n",
            " max_pooling2d_3 (MaxPoolin  (None, 48, 32, 512)          0         ['activation_7[0][0]']        \n",
            " g2D)                                                                                             \n",
            "                                                                                                  \n",
            " conv2d_8 (Conv2D)           (None, 48, 32, 1024)         4719616   ['max_pooling2d_3[0][0]']     \n",
            "                                                                                                  \n",
            " batch_normalization_8 (Bat  (None, 48, 32, 1024)         4096      ['conv2d_8[0][0]']            \n",
            " chNormalization)                                                                                 \n",
            "                                                                                                  \n",
            " activation_8 (Activation)   (None, 48, 32, 1024)         0         ['batch_normalization_8[0][0]'\n",
            "                                                                    ]                             \n",
            "                                                                                                  \n",
            " conv2d_9 (Conv2D)           (None, 48, 32, 1024)         9438208   ['activation_8[0][0]']        \n",
            "                                                                                                  \n",
            " batch_normalization_9 (Bat  (None, 48, 32, 1024)         4096      ['conv2d_9[0][0]']            \n",
            " chNormalization)                                                                                 \n",
            "                                                                                                  \n",
            " activation_9 (Activation)   (None, 48, 32, 1024)         0         ['batch_normalization_9[0][0]'\n",
            "                                                                    ]                             \n",
            "                                                                                                  \n",
            " conv2d_transpose (Conv2DTr  (None, 96, 64, 512)          2097664   ['activation_9[0][0]']        \n",
            " anspose)                                                                                         \n",
            "                                                                                                  \n",
            " concatenate (Concatenate)   (None, 96, 64, 1024)         0         ['conv2d_transpose[0][0]',    \n",
            "                                                                     'activation_7[0][0]']        \n",
            "                                                                                                  \n",
            " conv2d_10 (Conv2D)          (None, 96, 64, 512)          4719104   ['concatenate[0][0]']         \n",
            "                                                                                                  \n",
            " batch_normalization_10 (Ba  (None, 96, 64, 512)          2048      ['conv2d_10[0][0]']           \n",
            " tchNormalization)                                                                                \n",
            "                                                                                                  \n",
            " activation_10 (Activation)  (None, 96, 64, 512)          0         ['batch_normalization_10[0][0]\n",
            "                                                                    ']                            \n",
            "                                                                                                  \n",
            " conv2d_11 (Conv2D)          (None, 96, 64, 512)          2359808   ['activation_10[0][0]']       \n",
            "                                                                                                  \n",
            " batch_normalization_11 (Ba  (None, 96, 64, 512)          2048      ['conv2d_11[0][0]']           \n",
            " tchNormalization)                                                                                \n",
            "                                                                                                  \n",
            " activation_11 (Activation)  (None, 96, 64, 512)          0         ['batch_normalization_11[0][0]\n",
            "                                                                    ']                            \n",
            "                                                                                                  \n",
            " conv2d_transpose_1 (Conv2D  (None, 192, 128, 256)        524544    ['activation_11[0][0]']       \n",
            " Transpose)                                                                                       \n",
            "                                                                                                  \n",
            " concatenate_1 (Concatenate  (None, 192, 128, 512)        0         ['conv2d_transpose_1[0][0]',  \n",
            " )                                                                   'activation_5[0][0]']        \n",
            "                                                                                                  \n",
            " conv2d_12 (Conv2D)          (None, 192, 128, 256)        1179904   ['concatenate_1[0][0]']       \n",
            "                                                                                                  \n",
            " batch_normalization_12 (Ba  (None, 192, 128, 256)        1024      ['conv2d_12[0][0]']           \n",
            " tchNormalization)                                                                                \n",
            "                                                                                                  \n",
            " activation_12 (Activation)  (None, 192, 128, 256)        0         ['batch_normalization_12[0][0]\n",
            "                                                                    ']                            \n",
            "                                                                                                  \n",
            " conv2d_13 (Conv2D)          (None, 192, 128, 256)        590080    ['activation_12[0][0]']       \n",
            "                                                                                                  \n",
            " batch_normalization_13 (Ba  (None, 192, 128, 256)        1024      ['conv2d_13[0][0]']           \n",
            " tchNormalization)                                                                                \n",
            "                                                                                                  \n",
            " activation_13 (Activation)  (None, 192, 128, 256)        0         ['batch_normalization_13[0][0]\n",
            "                                                                    ']                            \n",
            "                                                                                                  \n",
            " conv2d_transpose_2 (Conv2D  (None, 384, 256, 128)        131200    ['activation_13[0][0]']       \n",
            " Transpose)                                                                                       \n",
            "                                                                                                  \n",
            " concatenate_2 (Concatenate  (None, 384, 256, 256)        0         ['conv2d_transpose_2[0][0]',  \n",
            " )                                                                   'activation_3[0][0]']        \n",
            "                                                                                                  \n",
            " conv2d_14 (Conv2D)          (None, 384, 256, 128)        295040    ['concatenate_2[0][0]']       \n",
            "                                                                                                  \n",
            " batch_normalization_14 (Ba  (None, 384, 256, 128)        512       ['conv2d_14[0][0]']           \n",
            " tchNormalization)                                                                                \n",
            "                                                                                                  \n",
            " activation_14 (Activation)  (None, 384, 256, 128)        0         ['batch_normalization_14[0][0]\n",
            "                                                                    ']                            \n",
            "                                                                                                  \n",
            " conv2d_15 (Conv2D)          (None, 384, 256, 128)        147584    ['activation_14[0][0]']       \n",
            "                                                                                                  \n",
            " batch_normalization_15 (Ba  (None, 384, 256, 128)        512       ['conv2d_15[0][0]']           \n",
            " tchNormalization)                                                                                \n",
            "                                                                                                  \n",
            " activation_15 (Activation)  (None, 384, 256, 128)        0         ['batch_normalization_15[0][0]\n",
            "                                                                    ']                            \n",
            "                                                                                                  \n",
            " conv2d_transpose_3 (Conv2D  (None, 768, 512, 64)         32832     ['activation_15[0][0]']       \n",
            " Transpose)                                                                                       \n",
            "                                                                                                  \n",
            " concatenate_3 (Concatenate  (None, 768, 512, 128)        0         ['conv2d_transpose_3[0][0]',  \n",
            " )                                                                   'activation_1[0][0]']        \n",
            "                                                                                                  \n",
            " conv2d_16 (Conv2D)          (None, 768, 512, 64)         73792     ['concatenate_3[0][0]']       \n",
            "                                                                                                  \n",
            " batch_normalization_16 (Ba  (None, 768, 512, 64)         256       ['conv2d_16[0][0]']           \n",
            " tchNormalization)                                                                                \n",
            "                                                                                                  \n",
            " activation_16 (Activation)  (None, 768, 512, 64)         0         ['batch_normalization_16[0][0]\n",
            "                                                                    ']                            \n",
            "                                                                                                  \n",
            " conv2d_17 (Conv2D)          (None, 768, 512, 64)         36928     ['activation_16[0][0]']       \n",
            "                                                                                                  \n",
            " batch_normalization_17 (Ba  (None, 768, 512, 64)         256       ['conv2d_17[0][0]']           \n",
            " tchNormalization)                                                                                \n",
            "                                                                                                  \n",
            " activation_17 (Activation)  (None, 768, 512, 64)         0         ['batch_normalization_17[0][0]\n",
            "                                                                    ']                            \n",
            "                                                                                                  \n",
            " conv2d_18 (Conv2D)          (None, 768, 512, 1)          65        ['activation_17[0][0]']       \n",
            "                                                                                                  \n",
            "==================================================================================================\n",
            "Total params: 31055297 (118.47 MB)\n",
            "Trainable params: 31043521 (118.42 MB)\n",
            "Non-trainable params: 11776 (46.00 KB)\n",
            "__________________________________________________________________________________________________\n"
          ]
        }
      ],
      "source": [
        "model.summary()"
      ]
    },
    {
      "cell_type": "code",
      "execution_count": 24,
      "id": "1f610b8e",
      "metadata": {
        "id": "1f610b8e"
      },
      "outputs": [],
      "source": [
        "opt = tf.keras.optimizers.legacy.Adam(lr)\n",
        "model.compile(loss = \"binary_crossentropy\",optimizer = opt, metrics = [\"acc\"] )"
      ]
    },
    {
      "cell_type": "code",
      "execution_count": 25,
      "id": "126f30e8",
      "metadata": {
        "id": "126f30e8"
      },
      "outputs": [],
      "source": [
        "callbacks = [\n",
        "    ModelCheckpoint(model_file, verbose = 1, save_best_only = True),\n",
        "    ReduceLROnPlateau(monitor='val_loss', factor=0.1,patience=4),\n",
        "    CSVLogger(log_file),\n",
        "    EarlyStopping(monitor='val_loss',patience=20, restore_best_weights=False)\n",
        "]"
      ]
    },
    {
      "cell_type": "code",
      "execution_count": 26,
      "id": "0d61810e",
      "metadata": {
        "id": "0d61810e",
        "colab": {
          "base_uri": "https://localhost:8080/"
        },
        "outputId": "e508f791-7387-4252-e0a9-77ca7a4936ba"
      },
      "outputs": [
        {
          "output_type": "stream",
          "name": "stdout",
          "text": [
            "Epoch 1/50\n",
            "75/75 [==============================] - ETA: 0s - loss: 0.5796 - acc: 0.7310\n",
            "Epoch 1: val_loss improved from inf to 0.61234, saving model to Colab Notebooks/files/aug/unet-aug.h5\n"
          ]
        },
        {
          "output_type": "stream",
          "name": "stderr",
          "text": [
            "/usr/local/lib/python3.10/dist-packages/keras/src/engine/training.py:3103: UserWarning: You are saving your model as an HDF5 file via `model.save()`. This file format is considered legacy. We recommend using instead the native Keras format, e.g. `model.save('my_model.keras')`.\n",
            "  saving_api.save_model(\n"
          ]
        },
        {
          "output_type": "stream",
          "name": "stdout",
          "text": [
            "\b\b\b\b\b\b\b\b\b\b\b\b\b\b\b\b\b\b\b\b\b\b\b\b\b\b\b\b\b\b\b\b\b\b\b\b\b\b\b\b\b\b\b\b\b\b\b\b\b\b\b\b\b\b\b\b\b\b\b\b\b\b\b\b\b\b\b\b\b\b\b\b\b\b\b\b\b\r75/75 [==============================] - 203s 2s/step - loss: 0.5796 - acc: 0.7310 - val_loss: 0.6123 - val_acc: 0.8341 - lr: 1.0000e-04\n",
            "Epoch 2/50\n",
            "75/75 [==============================] - ETA: 0s - loss: 0.3954 - acc: 0.8514\n",
            "Epoch 2: val_loss improved from 0.61234 to 0.49179, saving model to Colab Notebooks/files/aug/unet-aug.h5\n",
            "75/75 [==============================] - 106s 1s/step - loss: 0.3954 - acc: 0.8514 - val_loss: 0.4918 - val_acc: 0.8350 - lr: 1.0000e-04\n",
            "Epoch 3/50\n",
            "75/75 [==============================] - ETA: 0s - loss: 0.3525 - acc: 0.8631\n",
            "Epoch 3: val_loss improved from 0.49179 to 0.43429, saving model to Colab Notebooks/files/aug/unet-aug.h5\n",
            "75/75 [==============================] - 106s 1s/step - loss: 0.3525 - acc: 0.8631 - val_loss: 0.4343 - val_acc: 0.8351 - lr: 1.0000e-04\n",
            "Epoch 4/50\n",
            "75/75 [==============================] - ETA: 0s - loss: 0.3406 - acc: 0.8668\n",
            "Epoch 4: val_loss did not improve from 0.43429\n",
            "75/75 [==============================] - 104s 1s/step - loss: 0.3406 - acc: 0.8668 - val_loss: 1.1335 - val_acc: 0.2649 - lr: 1.0000e-04\n",
            "Epoch 5/50\n",
            "75/75 [==============================] - ETA: 0s - loss: 0.3200 - acc: 0.8710\n",
            "Epoch 5: val_loss did not improve from 0.43429\n",
            "75/75 [==============================] - 105s 1s/step - loss: 0.3200 - acc: 0.8710 - val_loss: 0.6339 - val_acc: 0.8141 - lr: 1.0000e-04\n",
            "Epoch 6/50\n",
            "75/75 [==============================] - ETA: 0s - loss: 0.3003 - acc: 0.8801\n",
            "Epoch 6: val_loss improved from 0.43429 to 0.43398, saving model to Colab Notebooks/files/aug/unet-aug.h5\n",
            "75/75 [==============================] - 108s 1s/step - loss: 0.3003 - acc: 0.8801 - val_loss: 0.4340 - val_acc: 0.8134 - lr: 1.0000e-04\n",
            "Epoch 7/50\n",
            "75/75 [==============================] - ETA: 0s - loss: 0.2822 - acc: 0.8874\n",
            "Epoch 7: val_loss improved from 0.43398 to 0.36046, saving model to Colab Notebooks/files/aug/unet-aug.h5\n",
            "75/75 [==============================] - 106s 1s/step - loss: 0.2822 - acc: 0.8874 - val_loss: 0.3605 - val_acc: 0.8519 - lr: 1.0000e-04\n",
            "Epoch 8/50\n",
            "75/75 [==============================] - ETA: 0s - loss: 0.2699 - acc: 0.8903\n",
            "Epoch 8: val_loss did not improve from 0.36046\n",
            "75/75 [==============================] - 106s 1s/step - loss: 0.2699 - acc: 0.8903 - val_loss: 0.3800 - val_acc: 0.8334 - lr: 1.0000e-04\n",
            "Epoch 9/50\n",
            "75/75 [==============================] - ETA: 0s - loss: 0.2674 - acc: 0.8912\n",
            "Epoch 9: val_loss did not improve from 0.36046\n",
            "75/75 [==============================] - 106s 1s/step - loss: 0.2674 - acc: 0.8912 - val_loss: 0.3697 - val_acc: 0.8349 - lr: 1.0000e-04\n",
            "Epoch 10/50\n",
            "75/75 [==============================] - ETA: 0s - loss: 0.2633 - acc: 0.8911\n",
            "Epoch 10: val_loss improved from 0.36046 to 0.34906, saving model to Colab Notebooks/files/aug/unet-aug.h5\n",
            "75/75 [==============================] - 107s 1s/step - loss: 0.2633 - acc: 0.8911 - val_loss: 0.3491 - val_acc: 0.8454 - lr: 1.0000e-04\n",
            "Epoch 11/50\n",
            "75/75 [==============================] - ETA: 0s - loss: 0.2457 - acc: 0.9017\n",
            "Epoch 11: val_loss did not improve from 0.34906\n",
            "75/75 [==============================] - 106s 1s/step - loss: 0.2457 - acc: 0.9017 - val_loss: 0.3621 - val_acc: 0.8466 - lr: 1.0000e-04\n",
            "Epoch 12/50\n",
            "75/75 [==============================] - ETA: 0s - loss: 0.2356 - acc: 0.9053\n",
            "Epoch 12: val_loss improved from 0.34906 to 0.32515, saving model to Colab Notebooks/files/aug/unet-aug.h5\n",
            "75/75 [==============================] - 106s 1s/step - loss: 0.2356 - acc: 0.9053 - val_loss: 0.3251 - val_acc: 0.8440 - lr: 1.0000e-04\n",
            "Epoch 13/50\n",
            "75/75 [==============================] - ETA: 0s - loss: 0.2290 - acc: 0.9075\n",
            "Epoch 13: val_loss improved from 0.32515 to 0.30483, saving model to Colab Notebooks/files/aug/unet-aug.h5\n",
            "75/75 [==============================] - 106s 1s/step - loss: 0.2290 - acc: 0.9075 - val_loss: 0.3048 - val_acc: 0.8731 - lr: 1.0000e-04\n",
            "Epoch 14/50\n",
            "75/75 [==============================] - ETA: 0s - loss: 0.2228 - acc: 0.9106\n",
            "Epoch 14: val_loss did not improve from 0.30483\n",
            "75/75 [==============================] - 105s 1s/step - loss: 0.2228 - acc: 0.9106 - val_loss: 0.3577 - val_acc: 0.8759 - lr: 1.0000e-04\n",
            "Epoch 15/50\n",
            "75/75 [==============================] - ETA: 0s - loss: 0.2137 - acc: 0.9139\n",
            "Epoch 15: val_loss did not improve from 0.30483\n",
            "75/75 [==============================] - 108s 1s/step - loss: 0.2137 - acc: 0.9139 - val_loss: 0.3303 - val_acc: 0.8721 - lr: 1.0000e-04\n",
            "Epoch 16/50\n",
            "75/75 [==============================] - ETA: 0s - loss: 0.1992 - acc: 0.9198\n",
            "Epoch 16: val_loss improved from 0.30483 to 0.27827, saving model to Colab Notebooks/files/aug/unet-aug.h5\n",
            "75/75 [==============================] - 110s 1s/step - loss: 0.1992 - acc: 0.9198 - val_loss: 0.2783 - val_acc: 0.8856 - lr: 1.0000e-04\n",
            "Epoch 17/50\n",
            "75/75 [==============================] - ETA: 0s - loss: 0.1857 - acc: 0.9274\n",
            "Epoch 17: val_loss improved from 0.27827 to 0.26099, saving model to Colab Notebooks/files/aug/unet-aug.h5\n",
            "75/75 [==============================] - 110s 1s/step - loss: 0.1857 - acc: 0.9274 - val_loss: 0.2610 - val_acc: 0.8969 - lr: 1.0000e-04\n",
            "Epoch 18/50\n",
            "75/75 [==============================] - ETA: 0s - loss: 0.1759 - acc: 0.9302\n",
            "Epoch 18: val_loss improved from 0.26099 to 0.26032, saving model to Colab Notebooks/files/aug/unet-aug.h5\n",
            "75/75 [==============================] - 109s 1s/step - loss: 0.1759 - acc: 0.9302 - val_loss: 0.2603 - val_acc: 0.9112 - lr: 1.0000e-04\n",
            "Epoch 19/50\n",
            "75/75 [==============================] - ETA: 0s - loss: 0.1666 - acc: 0.9342\n",
            "Epoch 19: val_loss did not improve from 0.26032\n",
            "75/75 [==============================] - 108s 1s/step - loss: 0.1666 - acc: 0.9342 - val_loss: 0.2613 - val_acc: 0.8971 - lr: 1.0000e-04\n",
            "Epoch 20/50\n",
            "75/75 [==============================] - ETA: 0s - loss: 0.1611 - acc: 0.9369\n",
            "Epoch 20: val_loss did not improve from 0.26032\n",
            "75/75 [==============================] - 108s 1s/step - loss: 0.1611 - acc: 0.9369 - val_loss: 0.2893 - val_acc: 0.8884 - lr: 1.0000e-04\n",
            "Epoch 21/50\n",
            "75/75 [==============================] - ETA: 0s - loss: 0.1488 - acc: 0.9421\n",
            "Epoch 21: val_loss improved from 0.26032 to 0.24946, saving model to Colab Notebooks/files/aug/unet-aug.h5\n",
            "75/75 [==============================] - 107s 1s/step - loss: 0.1488 - acc: 0.9421 - val_loss: 0.2495 - val_acc: 0.9070 - lr: 1.0000e-04\n",
            "Epoch 22/50\n",
            "75/75 [==============================] - ETA: 0s - loss: 0.1383 - acc: 0.9464\n",
            "Epoch 22: val_loss did not improve from 0.24946\n",
            "75/75 [==============================] - 105s 1s/step - loss: 0.1383 - acc: 0.9464 - val_loss: 0.2658 - val_acc: 0.8988 - lr: 1.0000e-04\n",
            "Epoch 23/50\n",
            "75/75 [==============================] - ETA: 0s - loss: 0.1387 - acc: 0.9468\n",
            "Epoch 23: val_loss did not improve from 0.24946\n",
            "75/75 [==============================] - 106s 1s/step - loss: 0.1387 - acc: 0.9468 - val_loss: 0.4394 - val_acc: 0.8677 - lr: 1.0000e-04\n",
            "Epoch 24/50\n",
            "75/75 [==============================] - ETA: 0s - loss: 0.1352 - acc: 0.9457\n",
            "Epoch 24: val_loss did not improve from 0.24946\n",
            "75/75 [==============================] - 105s 1s/step - loss: 0.1352 - acc: 0.9457 - val_loss: 0.6315 - val_acc: 0.8526 - lr: 1.0000e-04\n",
            "Epoch 25/50\n",
            "75/75 [==============================] - ETA: 0s - loss: 0.1528 - acc: 0.9405\n",
            "Epoch 25: val_loss did not improve from 0.24946\n",
            "75/75 [==============================] - 105s 1s/step - loss: 0.1528 - acc: 0.9405 - val_loss: 0.3054 - val_acc: 0.9041 - lr: 1.0000e-04\n",
            "Epoch 26/50\n",
            "75/75 [==============================] - ETA: 0s - loss: 0.1394 - acc: 0.9456\n",
            "Epoch 26: val_loss improved from 0.24946 to 0.20355, saving model to Colab Notebooks/files/aug/unet-aug.h5\n",
            "75/75 [==============================] - 108s 1s/step - loss: 0.1394 - acc: 0.9456 - val_loss: 0.2035 - val_acc: 0.9137 - lr: 1.0000e-05\n",
            "Epoch 27/50\n",
            "75/75 [==============================] - ETA: 0s - loss: 0.1146 - acc: 0.9576\n",
            "Epoch 27: val_loss improved from 0.20355 to 0.18941, saving model to Colab Notebooks/files/aug/unet-aug.h5\n",
            "75/75 [==============================] - 108s 1s/step - loss: 0.1146 - acc: 0.9576 - val_loss: 0.1894 - val_acc: 0.9198 - lr: 1.0000e-05\n",
            "Epoch 28/50\n",
            "75/75 [==============================] - ETA: 0s - loss: 0.1065 - acc: 0.9611\n",
            "Epoch 28: val_loss did not improve from 0.18941\n",
            "75/75 [==============================] - 105s 1s/step - loss: 0.1065 - acc: 0.9611 - val_loss: 0.1903 - val_acc: 0.9209 - lr: 1.0000e-05\n",
            "Epoch 29/50\n",
            "75/75 [==============================] - ETA: 0s - loss: 0.1004 - acc: 0.9637\n",
            "Epoch 29: val_loss did not improve from 0.18941\n",
            "75/75 [==============================] - 106s 1s/step - loss: 0.1004 - acc: 0.9637 - val_loss: 0.1931 - val_acc: 0.9210 - lr: 1.0000e-05\n",
            "Epoch 30/50\n",
            "75/75 [==============================] - ETA: 0s - loss: 0.0956 - acc: 0.9659\n",
            "Epoch 30: val_loss did not improve from 0.18941\n",
            "75/75 [==============================] - 105s 1s/step - loss: 0.0956 - acc: 0.9659 - val_loss: 0.1957 - val_acc: 0.9204 - lr: 1.0000e-05\n",
            "Epoch 31/50\n",
            "75/75 [==============================] - ETA: 0s - loss: 0.0914 - acc: 0.9676\n",
            "Epoch 31: val_loss did not improve from 0.18941\n",
            "75/75 [==============================] - 105s 1s/step - loss: 0.0914 - acc: 0.9676 - val_loss: 0.1987 - val_acc: 0.9194 - lr: 1.0000e-05\n",
            "Epoch 32/50\n",
            "75/75 [==============================] - ETA: 0s - loss: 0.0870 - acc: 0.9693\n",
            "Epoch 32: val_loss did not improve from 0.18941\n",
            "75/75 [==============================] - 105s 1s/step - loss: 0.0870 - acc: 0.9693 - val_loss: 0.1993 - val_acc: 0.9192 - lr: 1.0000e-06\n",
            "Epoch 33/50\n",
            "75/75 [==============================] - ETA: 0s - loss: 0.0861 - acc: 0.9697\n",
            "Epoch 33: val_loss did not improve from 0.18941\n",
            "75/75 [==============================] - 105s 1s/step - loss: 0.0861 - acc: 0.9697 - val_loss: 0.1989 - val_acc: 0.9191 - lr: 1.0000e-06\n",
            "Epoch 34/50\n",
            "75/75 [==============================] - ETA: 0s - loss: 0.0856 - acc: 0.9699\n",
            "Epoch 34: val_loss did not improve from 0.18941\n",
            "75/75 [==============================] - 105s 1s/step - loss: 0.0856 - acc: 0.9699 - val_loss: 0.1984 - val_acc: 0.9189 - lr: 1.0000e-06\n",
            "Epoch 35/50\n",
            "75/75 [==============================] - ETA: 0s - loss: 0.0851 - acc: 0.9701\n",
            "Epoch 35: val_loss did not improve from 0.18941\n",
            "75/75 [==============================] - 106s 1s/step - loss: 0.0851 - acc: 0.9701 - val_loss: 0.1981 - val_acc: 0.9186 - lr: 1.0000e-06\n",
            "Epoch 36/50\n",
            "75/75 [==============================] - ETA: 0s - loss: 0.0846 - acc: 0.9703\n",
            "Epoch 36: val_loss did not improve from 0.18941\n",
            "75/75 [==============================] - 107s 1s/step - loss: 0.0846 - acc: 0.9703 - val_loss: 0.1978 - val_acc: 0.9183 - lr: 1.0000e-07\n",
            "Epoch 37/50\n",
            "75/75 [==============================] - ETA: 0s - loss: 0.0846 - acc: 0.9703\n",
            "Epoch 37: val_loss did not improve from 0.18941\n",
            "75/75 [==============================] - 107s 1s/step - loss: 0.0846 - acc: 0.9703 - val_loss: 0.1978 - val_acc: 0.9182 - lr: 1.0000e-07\n",
            "Epoch 38/50\n",
            "75/75 [==============================] - ETA: 0s - loss: 0.0845 - acc: 0.9703\n",
            "Epoch 38: val_loss did not improve from 0.18941\n",
            "75/75 [==============================] - 105s 1s/step - loss: 0.0845 - acc: 0.9703 - val_loss: 0.1977 - val_acc: 0.9181 - lr: 1.0000e-07\n",
            "Epoch 39/50\n",
            "75/75 [==============================] - ETA: 0s - loss: 0.0845 - acc: 0.9703\n",
            "Epoch 39: val_loss did not improve from 0.18941\n",
            "75/75 [==============================] - 105s 1s/step - loss: 0.0845 - acc: 0.9703 - val_loss: 0.1977 - val_acc: 0.9180 - lr: 1.0000e-07\n",
            "Epoch 40/50\n",
            "75/75 [==============================] - ETA: 0s - loss: 0.0844 - acc: 0.9704\n",
            "Epoch 40: val_loss did not improve from 0.18941\n",
            "75/75 [==============================] - 105s 1s/step - loss: 0.0844 - acc: 0.9704 - val_loss: 0.1977 - val_acc: 0.9180 - lr: 1.0000e-08\n",
            "Epoch 41/50\n",
            "75/75 [==============================] - ETA: 0s - loss: 0.0844 - acc: 0.9704\n",
            "Epoch 41: val_loss did not improve from 0.18941\n",
            "75/75 [==============================] - 104s 1s/step - loss: 0.0844 - acc: 0.9704 - val_loss: 0.1977 - val_acc: 0.9180 - lr: 1.0000e-08\n",
            "Epoch 42/50\n",
            "75/75 [==============================] - ETA: 0s - loss: 0.0844 - acc: 0.9704\n",
            "Epoch 42: val_loss did not improve from 0.18941\n",
            "75/75 [==============================] - 106s 1s/step - loss: 0.0844 - acc: 0.9704 - val_loss: 0.1977 - val_acc: 0.9180 - lr: 1.0000e-08\n",
            "Epoch 43/50\n",
            "75/75 [==============================] - ETA: 0s - loss: 0.0844 - acc: 0.9704\n",
            "Epoch 43: val_loss did not improve from 0.18941\n",
            "75/75 [==============================] - 108s 1s/step - loss: 0.0844 - acc: 0.9704 - val_loss: 0.1977 - val_acc: 0.9180 - lr: 1.0000e-08\n",
            "Epoch 44/50\n",
            "75/75 [==============================] - ETA: 0s - loss: 0.0844 - acc: 0.9704\n",
            "Epoch 44: val_loss did not improve from 0.18941\n",
            "75/75 [==============================] - 108s 1s/step - loss: 0.0844 - acc: 0.9704 - val_loss: 0.1977 - val_acc: 0.9180 - lr: 1.0000e-09\n",
            "Epoch 45/50\n",
            "75/75 [==============================] - ETA: 0s - loss: 0.0844 - acc: 0.9704\n",
            "Epoch 45: val_loss did not improve from 0.18941\n",
            "75/75 [==============================] - 108s 1s/step - loss: 0.0844 - acc: 0.9704 - val_loss: 0.1977 - val_acc: 0.9180 - lr: 1.0000e-09\n",
            "Epoch 46/50\n",
            "75/75 [==============================] - ETA: 0s - loss: 0.0844 - acc: 0.9704\n",
            "Epoch 46: val_loss did not improve from 0.18941\n",
            "75/75 [==============================] - 108s 1s/step - loss: 0.0844 - acc: 0.9704 - val_loss: 0.1977 - val_acc: 0.9180 - lr: 1.0000e-09\n",
            "Epoch 47/50\n",
            "75/75 [==============================] - ETA: 0s - loss: 0.0844 - acc: 0.9704\n",
            "Epoch 47: val_loss did not improve from 0.18941\n",
            "75/75 [==============================] - 108s 1s/step - loss: 0.0844 - acc: 0.9704 - val_loss: 0.1977 - val_acc: 0.9180 - lr: 1.0000e-09\n"
          ]
        },
        {
          "output_type": "execute_result",
          "data": {
            "text/plain": [
              "<keras.src.callbacks.History at 0x7f71dda8f010>"
            ]
          },
          "metadata": {},
          "execution_count": 26
        }
      ],
      "source": [
        "model.fit(\n",
        "    train_dataset,\n",
        "    validation_data = valid_dataset,\n",
        "    epochs = epochs,\n",
        "    callbacks=callbacks\n",
        ")"
      ]
    },
    {
      "cell_type": "markdown",
      "source": [
        "Import\n"
      ],
      "metadata": {
        "id": "-WTMuMtgQCI1"
      },
      "id": "-WTMuMtgQCI1"
    },
    {
      "cell_type": "code",
      "source": [
        "import os\n",
        "import time\n",
        "import numpy as np\n",
        "import cv2\n",
        "from glob import glob\n",
        "from tqdm import tqdm\n",
        "import tensorflow as tf"
      ],
      "metadata": {
        "id": "OGuHHF3RPQUn"
      },
      "id": "OGuHHF3RPQUn",
      "execution_count": 27,
      "outputs": []
    },
    {
      "cell_type": "markdown",
      "source": [
        "Seeding"
      ],
      "metadata": {
        "id": "D1Mvs724QGa_"
      },
      "id": "D1Mvs724QGa_"
    },
    {
      "cell_type": "code",
      "source": [
        "os.environ[ \"PYTHONHASHSEED\" ] = str(42)\n",
        "np. random. seed (42)\n",
        "tf. random.set_seed (42)"
      ],
      "metadata": {
        "id": "8-wJxJXxPqEr"
      },
      "id": "8-wJxJXxPqEr",
      "execution_count": 28,
      "outputs": []
    },
    {
      "cell_type": "markdown",
      "source": [
        "Hyperparameters"
      ],
      "metadata": {
        "id": "1kieu-vRQJoB"
      },
      "id": "1kieu-vRQJoB"
    },
    {
      "cell_type": "code",
      "source": [
        "height = 769\n",
        "width= 512\n"
      ],
      "metadata": {
        "id": "id4OgEhPPvxQ"
      },
      "id": "id4OgEhPPvxQ",
      "execution_count": 29,
      "outputs": []
    },
    {
      "cell_type": "markdown",
      "source": [
        "Path\n"
      ],
      "metadata": {
        "id": "cGr0cv1pQNQ_"
      },
      "id": "cGr0cv1pQNQ_"
    },
    {
      "cell_type": "code",
      "source": [
        "dataset_path = \"/content/drive/MyDrive/Dataset/aug/test\"\n",
        "save_path = \"Colab Notebooks/prediction/aug\"\n",
        "model_path = \"Colab Notebooks/files/aug/unet-aug.h5\""
      ],
      "metadata": {
        "id": "Us7ROb8TQQp6"
      },
      "id": "Us7ROb8TQQp6",
      "execution_count": 30,
      "outputs": []
    },
    {
      "cell_type": "code",
      "source": [
        "def create_dir(path):\n",
        "  if not os.path.exists(path):\n",
        "    os.makedirs(path)\n"
      ],
      "metadata": {
        "id": "612TJ13ZQ2az"
      },
      "id": "612TJ13ZQ2az",
      "execution_count": 31,
      "outputs": []
    },
    {
      "cell_type": "code",
      "source": [
        "create_dir(save_path)"
      ],
      "metadata": {
        "id": "uH7jEmIBRff9"
      },
      "id": "uH7jEmIBRff9",
      "execution_count": 32,
      "outputs": []
    },
    {
      "cell_type": "code",
      "source": [
        "model = tf.keras.models.load_model(model_path)"
      ],
      "metadata": {
        "id": "-zolr1htRk1b"
      },
      "id": "-zolr1htRk1b",
      "execution_count": 33,
      "outputs": []
    },
    {
      "cell_type": "code",
      "source": [
        "model.summary()"
      ],
      "metadata": {
        "id": "khGLiEmZSPhH",
        "colab": {
          "base_uri": "https://localhost:8080/"
        },
        "outputId": "82fdb042-3cdb-4fc8-8a1b-13f7cae284d2"
      },
      "id": "khGLiEmZSPhH",
      "execution_count": 34,
      "outputs": [
        {
          "output_type": "stream",
          "name": "stdout",
          "text": [
            "Model: \"UNET\"\n",
            "__________________________________________________________________________________________________\n",
            " Layer (type)                Output Shape                 Param #   Connected to                  \n",
            "==================================================================================================\n",
            " input_1 (InputLayer)        [(None, 768, 512, 3)]        0         []                            \n",
            "                                                                                                  \n",
            " conv2d (Conv2D)             (None, 768, 512, 64)         1792      ['input_1[0][0]']             \n",
            "                                                                                                  \n",
            " batch_normalization (Batch  (None, 768, 512, 64)         256       ['conv2d[0][0]']              \n",
            " Normalization)                                                                                   \n",
            "                                                                                                  \n",
            " activation (Activation)     (None, 768, 512, 64)         0         ['batch_normalization[0][0]'] \n",
            "                                                                                                  \n",
            " conv2d_1 (Conv2D)           (None, 768, 512, 64)         36928     ['activation[0][0]']          \n",
            "                                                                                                  \n",
            " batch_normalization_1 (Bat  (None, 768, 512, 64)         256       ['conv2d_1[0][0]']            \n",
            " chNormalization)                                                                                 \n",
            "                                                                                                  \n",
            " activation_1 (Activation)   (None, 768, 512, 64)         0         ['batch_normalization_1[0][0]'\n",
            "                                                                    ]                             \n",
            "                                                                                                  \n",
            " max_pooling2d (MaxPooling2  (None, 384, 256, 64)         0         ['activation_1[0][0]']        \n",
            " D)                                                                                               \n",
            "                                                                                                  \n",
            " conv2d_2 (Conv2D)           (None, 384, 256, 128)        73856     ['max_pooling2d[0][0]']       \n",
            "                                                                                                  \n",
            " batch_normalization_2 (Bat  (None, 384, 256, 128)        512       ['conv2d_2[0][0]']            \n",
            " chNormalization)                                                                                 \n",
            "                                                                                                  \n",
            " activation_2 (Activation)   (None, 384, 256, 128)        0         ['batch_normalization_2[0][0]'\n",
            "                                                                    ]                             \n",
            "                                                                                                  \n",
            " conv2d_3 (Conv2D)           (None, 384, 256, 128)        147584    ['activation_2[0][0]']        \n",
            "                                                                                                  \n",
            " batch_normalization_3 (Bat  (None, 384, 256, 128)        512       ['conv2d_3[0][0]']            \n",
            " chNormalization)                                                                                 \n",
            "                                                                                                  \n",
            " activation_3 (Activation)   (None, 384, 256, 128)        0         ['batch_normalization_3[0][0]'\n",
            "                                                                    ]                             \n",
            "                                                                                                  \n",
            " max_pooling2d_1 (MaxPoolin  (None, 192, 128, 128)        0         ['activation_3[0][0]']        \n",
            " g2D)                                                                                             \n",
            "                                                                                                  \n",
            " conv2d_4 (Conv2D)           (None, 192, 128, 256)        295168    ['max_pooling2d_1[0][0]']     \n",
            "                                                                                                  \n",
            " batch_normalization_4 (Bat  (None, 192, 128, 256)        1024      ['conv2d_4[0][0]']            \n",
            " chNormalization)                                                                                 \n",
            "                                                                                                  \n",
            " activation_4 (Activation)   (None, 192, 128, 256)        0         ['batch_normalization_4[0][0]'\n",
            "                                                                    ]                             \n",
            "                                                                                                  \n",
            " conv2d_5 (Conv2D)           (None, 192, 128, 256)        590080    ['activation_4[0][0]']        \n",
            "                                                                                                  \n",
            " batch_normalization_5 (Bat  (None, 192, 128, 256)        1024      ['conv2d_5[0][0]']            \n",
            " chNormalization)                                                                                 \n",
            "                                                                                                  \n",
            " activation_5 (Activation)   (None, 192, 128, 256)        0         ['batch_normalization_5[0][0]'\n",
            "                                                                    ]                             \n",
            "                                                                                                  \n",
            " max_pooling2d_2 (MaxPoolin  (None, 96, 64, 256)          0         ['activation_5[0][0]']        \n",
            " g2D)                                                                                             \n",
            "                                                                                                  \n",
            " conv2d_6 (Conv2D)           (None, 96, 64, 512)          1180160   ['max_pooling2d_2[0][0]']     \n",
            "                                                                                                  \n",
            " batch_normalization_6 (Bat  (None, 96, 64, 512)          2048      ['conv2d_6[0][0]']            \n",
            " chNormalization)                                                                                 \n",
            "                                                                                                  \n",
            " activation_6 (Activation)   (None, 96, 64, 512)          0         ['batch_normalization_6[0][0]'\n",
            "                                                                    ]                             \n",
            "                                                                                                  \n",
            " conv2d_7 (Conv2D)           (None, 96, 64, 512)          2359808   ['activation_6[0][0]']        \n",
            "                                                                                                  \n",
            " batch_normalization_7 (Bat  (None, 96, 64, 512)          2048      ['conv2d_7[0][0]']            \n",
            " chNormalization)                                                                                 \n",
            "                                                                                                  \n",
            " activation_7 (Activation)   (None, 96, 64, 512)          0         ['batch_normalization_7[0][0]'\n",
            "                                                                    ]                             \n",
            "                                                                                                  \n",
            " max_pooling2d_3 (MaxPoolin  (None, 48, 32, 512)          0         ['activation_7[0][0]']        \n",
            " g2D)                                                                                             \n",
            "                                                                                                  \n",
            " conv2d_8 (Conv2D)           (None, 48, 32, 1024)         4719616   ['max_pooling2d_3[0][0]']     \n",
            "                                                                                                  \n",
            " batch_normalization_8 (Bat  (None, 48, 32, 1024)         4096      ['conv2d_8[0][0]']            \n",
            " chNormalization)                                                                                 \n",
            "                                                                                                  \n",
            " activation_8 (Activation)   (None, 48, 32, 1024)         0         ['batch_normalization_8[0][0]'\n",
            "                                                                    ]                             \n",
            "                                                                                                  \n",
            " conv2d_9 (Conv2D)           (None, 48, 32, 1024)         9438208   ['activation_8[0][0]']        \n",
            "                                                                                                  \n",
            " batch_normalization_9 (Bat  (None, 48, 32, 1024)         4096      ['conv2d_9[0][0]']            \n",
            " chNormalization)                                                                                 \n",
            "                                                                                                  \n",
            " activation_9 (Activation)   (None, 48, 32, 1024)         0         ['batch_normalization_9[0][0]'\n",
            "                                                                    ]                             \n",
            "                                                                                                  \n",
            " conv2d_transpose (Conv2DTr  (None, 96, 64, 512)          2097664   ['activation_9[0][0]']        \n",
            " anspose)                                                                                         \n",
            "                                                                                                  \n",
            " concatenate (Concatenate)   (None, 96, 64, 1024)         0         ['conv2d_transpose[0][0]',    \n",
            "                                                                     'activation_7[0][0]']        \n",
            "                                                                                                  \n",
            " conv2d_10 (Conv2D)          (None, 96, 64, 512)          4719104   ['concatenate[0][0]']         \n",
            "                                                                                                  \n",
            " batch_normalization_10 (Ba  (None, 96, 64, 512)          2048      ['conv2d_10[0][0]']           \n",
            " tchNormalization)                                                                                \n",
            "                                                                                                  \n",
            " activation_10 (Activation)  (None, 96, 64, 512)          0         ['batch_normalization_10[0][0]\n",
            "                                                                    ']                            \n",
            "                                                                                                  \n",
            " conv2d_11 (Conv2D)          (None, 96, 64, 512)          2359808   ['activation_10[0][0]']       \n",
            "                                                                                                  \n",
            " batch_normalization_11 (Ba  (None, 96, 64, 512)          2048      ['conv2d_11[0][0]']           \n",
            " tchNormalization)                                                                                \n",
            "                                                                                                  \n",
            " activation_11 (Activation)  (None, 96, 64, 512)          0         ['batch_normalization_11[0][0]\n",
            "                                                                    ']                            \n",
            "                                                                                                  \n",
            " conv2d_transpose_1 (Conv2D  (None, 192, 128, 256)        524544    ['activation_11[0][0]']       \n",
            " Transpose)                                                                                       \n",
            "                                                                                                  \n",
            " concatenate_1 (Concatenate  (None, 192, 128, 512)        0         ['conv2d_transpose_1[0][0]',  \n",
            " )                                                                   'activation_5[0][0]']        \n",
            "                                                                                                  \n",
            " conv2d_12 (Conv2D)          (None, 192, 128, 256)        1179904   ['concatenate_1[0][0]']       \n",
            "                                                                                                  \n",
            " batch_normalization_12 (Ba  (None, 192, 128, 256)        1024      ['conv2d_12[0][0]']           \n",
            " tchNormalization)                                                                                \n",
            "                                                                                                  \n",
            " activation_12 (Activation)  (None, 192, 128, 256)        0         ['batch_normalization_12[0][0]\n",
            "                                                                    ']                            \n",
            "                                                                                                  \n",
            " conv2d_13 (Conv2D)          (None, 192, 128, 256)        590080    ['activation_12[0][0]']       \n",
            "                                                                                                  \n",
            " batch_normalization_13 (Ba  (None, 192, 128, 256)        1024      ['conv2d_13[0][0]']           \n",
            " tchNormalization)                                                                                \n",
            "                                                                                                  \n",
            " activation_13 (Activation)  (None, 192, 128, 256)        0         ['batch_normalization_13[0][0]\n",
            "                                                                    ']                            \n",
            "                                                                                                  \n",
            " conv2d_transpose_2 (Conv2D  (None, 384, 256, 128)        131200    ['activation_13[0][0]']       \n",
            " Transpose)                                                                                       \n",
            "                                                                                                  \n",
            " concatenate_2 (Concatenate  (None, 384, 256, 256)        0         ['conv2d_transpose_2[0][0]',  \n",
            " )                                                                   'activation_3[0][0]']        \n",
            "                                                                                                  \n",
            " conv2d_14 (Conv2D)          (None, 384, 256, 128)        295040    ['concatenate_2[0][0]']       \n",
            "                                                                                                  \n",
            " batch_normalization_14 (Ba  (None, 384, 256, 128)        512       ['conv2d_14[0][0]']           \n",
            " tchNormalization)                                                                                \n",
            "                                                                                                  \n",
            " activation_14 (Activation)  (None, 384, 256, 128)        0         ['batch_normalization_14[0][0]\n",
            "                                                                    ']                            \n",
            "                                                                                                  \n",
            " conv2d_15 (Conv2D)          (None, 384, 256, 128)        147584    ['activation_14[0][0]']       \n",
            "                                                                                                  \n",
            " batch_normalization_15 (Ba  (None, 384, 256, 128)        512       ['conv2d_15[0][0]']           \n",
            " tchNormalization)                                                                                \n",
            "                                                                                                  \n",
            " activation_15 (Activation)  (None, 384, 256, 128)        0         ['batch_normalization_15[0][0]\n",
            "                                                                    ']                            \n",
            "                                                                                                  \n",
            " conv2d_transpose_3 (Conv2D  (None, 768, 512, 64)         32832     ['activation_15[0][0]']       \n",
            " Transpose)                                                                                       \n",
            "                                                                                                  \n",
            " concatenate_3 (Concatenate  (None, 768, 512, 128)        0         ['conv2d_transpose_3[0][0]',  \n",
            " )                                                                   'activation_1[0][0]']        \n",
            "                                                                                                  \n",
            " conv2d_16 (Conv2D)          (None, 768, 512, 64)         73792     ['concatenate_3[0][0]']       \n",
            "                                                                                                  \n",
            " batch_normalization_16 (Ba  (None, 768, 512, 64)         256       ['conv2d_16[0][0]']           \n",
            " tchNormalization)                                                                                \n",
            "                                                                                                  \n",
            " activation_16 (Activation)  (None, 768, 512, 64)         0         ['batch_normalization_16[0][0]\n",
            "                                                                    ']                            \n",
            "                                                                                                  \n",
            " conv2d_17 (Conv2D)          (None, 768, 512, 64)         36928     ['activation_16[0][0]']       \n",
            "                                                                                                  \n",
            " batch_normalization_17 (Ba  (None, 768, 512, 64)         256       ['conv2d_17[0][0]']           \n",
            " tchNormalization)                                                                                \n",
            "                                                                                                  \n",
            " activation_17 (Activation)  (None, 768, 512, 64)         0         ['batch_normalization_17[0][0]\n",
            "                                                                    ']                            \n",
            "                                                                                                  \n",
            " conv2d_18 (Conv2D)          (None, 768, 512, 1)          65        ['activation_17[0][0]']       \n",
            "                                                                                                  \n",
            "==================================================================================================\n",
            "Total params: 31055297 (118.47 MB)\n",
            "Trainable params: 31043521 (118.42 MB)\n",
            "Non-trainable params: 11776 (46.00 KB)\n",
            "__________________________________________________________________________________________________\n"
          ]
        }
      ]
    },
    {
      "cell_type": "code",
      "source": [
        "test_x = sorted(glob(os.path.join(dataset_path,\"images\", \"*\")))\n",
        "print (f\"Test Images: {len(test_x)}\")"
      ],
      "metadata": {
        "id": "KobEAjmjRtLu",
        "colab": {
          "base_uri": "https://localhost:8080/"
        },
        "outputId": "dfa4486e-6bfd-4e08-985e-aabeb18b2869"
      },
      "id": "KobEAjmjRtLu",
      "execution_count": 35,
      "outputs": [
        {
          "output_type": "stream",
          "name": "stdout",
          "text": [
            "Test Images: 19\n"
          ]
        }
      ]
    },
    {
      "cell_type": "code",
      "source": [
        "test_x[0]"
      ],
      "metadata": {
        "id": "8JEw3F4lQANX",
        "colab": {
          "base_uri": "https://localhost:8080/",
          "height": 35
        },
        "outputId": "af8f0bf8-cb67-4397-8fe5-50cd3c147b1f"
      },
      "id": "8JEw3F4lQANX",
      "execution_count": 36,
      "outputs": [
        {
          "output_type": "execute_result",
          "data": {
            "text/plain": [
              "'/content/drive/MyDrive/Dataset/aug/test/images/118_0.png'"
            ],
            "application/vnd.google.colaboratory.intrinsic+json": {
              "type": "string"
            }
          },
          "metadata": {},
          "execution_count": 36
        }
      ]
    },
    {
      "cell_type": "code",
      "source": [
        "time_taken = []\n",
        "for x in tqdm(test_x):\n",
        "  name =x.split(\"/\")[-1]\n",
        "\n",
        "  x= cv2.imread(x, cv2.IMREAD_COLOR)\n",
        "  x = x / 255.0\n",
        "  x = np. expand_dims(x, axis=0)\n",
        "  start_time = time.time()\n",
        "  p = model. predict(x)[0]\n",
        "  total_time = time. time() - start_time\n",
        "  time_taken.append(total_time)\n",
        "  p = p > 0.5\n",
        "  p = p * 255\n",
        "  cv2.imwrite(os.path.join(save_path, name), p)"
      ],
      "metadata": {
        "id": "kuhD8uONT3ef",
        "colab": {
          "base_uri": "https://localhost:8080/"
        },
        "outputId": "cccba87d-f474-49e6-8597-c18361894644"
      },
      "id": "kuhD8uONT3ef",
      "execution_count": 37,
      "outputs": [
        {
          "output_type": "stream",
          "name": "stderr",
          "text": [
            "\r  0%|          | 0/19 [00:00<?, ?it/s]"
          ]
        },
        {
          "output_type": "stream",
          "name": "stdout",
          "text": [
            "1/1 [==============================] - 7s 7s/step\n"
          ]
        },
        {
          "output_type": "stream",
          "name": "stderr",
          "text": [
            "\r  5%|▌         | 1/19 [00:11<03:22, 11.24s/it]"
          ]
        },
        {
          "output_type": "stream",
          "name": "stdout",
          "text": [
            "1/1 [==============================] - 0s 31ms/step\n"
          ]
        },
        {
          "output_type": "stream",
          "name": "stderr",
          "text": [
            "\r 11%|█         | 2/19 [00:11<01:25,  5.02s/it]"
          ]
        },
        {
          "output_type": "stream",
          "name": "stdout",
          "text": [
            "1/1 [==============================] - 0s 24ms/step\n"
          ]
        },
        {
          "output_type": "stream",
          "name": "stderr",
          "text": [
            "\r 16%|█▌        | 3/19 [00:12<00:47,  2.99s/it]"
          ]
        },
        {
          "output_type": "stream",
          "name": "stdout",
          "text": [
            "1/1 [==============================] - 0s 21ms/step\n"
          ]
        },
        {
          "output_type": "stream",
          "name": "stderr",
          "text": [
            "\r 21%|██        | 4/19 [00:12<00:29,  2.00s/it]"
          ]
        },
        {
          "output_type": "stream",
          "name": "stdout",
          "text": [
            "1/1 [==============================] - 0s 24ms/step\n"
          ]
        },
        {
          "output_type": "stream",
          "name": "stderr",
          "text": [
            "\r 26%|██▋       | 5/19 [00:13<00:21,  1.54s/it]"
          ]
        },
        {
          "output_type": "stream",
          "name": "stdout",
          "text": [
            "1/1 [==============================] - 0s 33ms/step\n"
          ]
        },
        {
          "output_type": "stream",
          "name": "stderr",
          "text": [
            "\r 32%|███▏      | 6/19 [00:14<00:18,  1.45s/it]"
          ]
        },
        {
          "output_type": "stream",
          "name": "stdout",
          "text": [
            "1/1 [==============================] - 0s 30ms/step\n"
          ]
        },
        {
          "output_type": "stream",
          "name": "stderr",
          "text": [
            "\r 37%|███▋      | 7/19 [00:15<00:13,  1.17s/it]"
          ]
        },
        {
          "output_type": "stream",
          "name": "stdout",
          "text": [
            "1/1 [==============================] - 0s 30ms/step\n"
          ]
        },
        {
          "output_type": "stream",
          "name": "stderr",
          "text": [
            "\r 42%|████▏     | 8/19 [00:16<00:12,  1.11s/it]"
          ]
        },
        {
          "output_type": "stream",
          "name": "stdout",
          "text": [
            "1/1 [==============================] - 0s 23ms/step\n"
          ]
        },
        {
          "output_type": "stream",
          "name": "stderr",
          "text": [
            "\r 47%|████▋     | 9/19 [00:17<00:09,  1.04it/s]"
          ]
        },
        {
          "output_type": "stream",
          "name": "stdout",
          "text": [
            "1/1 [==============================] - 0s 22ms/step\n"
          ]
        },
        {
          "output_type": "stream",
          "name": "stderr",
          "text": [
            "\r 53%|█████▎    | 10/19 [00:17<00:08,  1.12it/s]"
          ]
        },
        {
          "output_type": "stream",
          "name": "stdout",
          "text": [
            "1/1 [==============================] - 0s 22ms/step\n"
          ]
        },
        {
          "output_type": "stream",
          "name": "stderr",
          "text": [
            "\r 58%|█████▊    | 11/19 [00:18<00:06,  1.24it/s]"
          ]
        },
        {
          "output_type": "stream",
          "name": "stdout",
          "text": [
            "1/1 [==============================] - 0s 22ms/step\n"
          ]
        },
        {
          "output_type": "stream",
          "name": "stderr",
          "text": [
            "\r 63%|██████▎   | 12/19 [00:19<00:05,  1.35it/s]"
          ]
        },
        {
          "output_type": "stream",
          "name": "stdout",
          "text": [
            "1/1 [==============================] - 0s 21ms/step\n"
          ]
        },
        {
          "output_type": "stream",
          "name": "stderr",
          "text": [
            "\r 68%|██████▊   | 13/19 [00:19<00:04,  1.44it/s]"
          ]
        },
        {
          "output_type": "stream",
          "name": "stdout",
          "text": [
            "1/1 [==============================] - 0s 23ms/step\n"
          ]
        },
        {
          "output_type": "stream",
          "name": "stderr",
          "text": [
            "\r 74%|███████▎  | 14/19 [00:20<00:03,  1.40it/s]"
          ]
        },
        {
          "output_type": "stream",
          "name": "stdout",
          "text": [
            "1/1 [==============================] - 0s 22ms/step\n"
          ]
        },
        {
          "output_type": "stream",
          "name": "stderr",
          "text": [
            "\r 79%|███████▉  | 15/19 [00:20<00:02,  1.57it/s]"
          ]
        },
        {
          "output_type": "stream",
          "name": "stdout",
          "text": [
            "1/1 [==============================] - 0s 21ms/step\n"
          ]
        },
        {
          "output_type": "stream",
          "name": "stderr",
          "text": [
            "\r 84%|████████▍ | 16/19 [00:21<00:01,  1.67it/s]"
          ]
        },
        {
          "output_type": "stream",
          "name": "stdout",
          "text": [
            "1/1 [==============================] - 0s 21ms/step\n"
          ]
        },
        {
          "output_type": "stream",
          "name": "stderr",
          "text": [
            "\r 89%|████████▉ | 17/19 [00:21<00:01,  1.84it/s]"
          ]
        },
        {
          "output_type": "stream",
          "name": "stdout",
          "text": [
            "1/1 [==============================] - 0s 23ms/step\n"
          ]
        },
        {
          "output_type": "stream",
          "name": "stderr",
          "text": [
            "\r 95%|█████████▍| 18/19 [00:22<00:00,  2.01it/s]"
          ]
        },
        {
          "output_type": "stream",
          "name": "stdout",
          "text": [
            "1/1 [==============================] - 0s 26ms/step\n"
          ]
        },
        {
          "output_type": "stream",
          "name": "stderr",
          "text": [
            "100%|██████████| 19/19 [00:23<00:00,  1.22s/it]\n"
          ]
        }
      ]
    },
    {
      "cell_type": "code",
      "source": [
        "mean_time = np.mean (time_taken)\n",
        "mean_fps = 1/mean_time"
      ],
      "metadata": {
        "id": "GsMEe0clV_-C"
      },
      "id": "GsMEe0clV_-C",
      "execution_count": 38,
      "outputs": []
    },
    {
      "cell_type": "code",
      "source": [
        "mean_time = np.mean (time_taken)\n",
        "mean_fps = 1/mean_time\n",
        "print(f\"Mean Time: {mean_time: 1.5f} - Mean FPS: {mean_fps:2.5f}\")"
      ],
      "metadata": {
        "id": "cWpC6vxFWOYw",
        "colab": {
          "base_uri": "https://localhost:8080/"
        },
        "outputId": "a9cca28d-2135-4771-ec80-ae34a5106a74"
      },
      "id": "cWpC6vxFWOYw",
      "execution_count": 39,
      "outputs": [
        {
          "output_type": "stream",
          "name": "stdout",
          "text": [
            "Mean Time:  0.75972 - Mean FPS: 1.31627\n"
          ]
        }
      ]
    },
    {
      "cell_type": "code",
      "source": [
        "from glob import glob\n",
        "from sklearn.metrics import accuracy_score, f1_score, jaccard_score, precision_score, recall_score"
      ],
      "metadata": {
        "id": "KZ5PqtAzlDNb"
      },
      "id": "KZ5PqtAzlDNb",
      "execution_count": 40,
      "outputs": []
    },
    {
      "cell_type": "code",
      "source": [
        "pred_mask = sorted(glob(os.path.join(\"Colab Notebooks\",\"prediction\", \"aug\", \"*\")))\n",
        "#true_mask = sorted(glob(os.path.join(\"/content/drive/MyDrive/\", \"Dataset\",\"test\", \"masks\", \"*\")))\n",
        "true_mask = sorted(glob(\"/content/drive/MyDrive/Dataset/aug/test/masks/*\"))"
      ],
      "metadata": {
        "id": "FbtvDZIzlQv0"
      },
      "id": "FbtvDZIzlQv0",
      "execution_count": 41,
      "outputs": []
    },
    {
      "cell_type": "code",
      "source": [
        "print(true_mask)"
      ],
      "metadata": {
        "colab": {
          "base_uri": "https://localhost:8080/"
        },
        "id": "HuJ2TsvTqv_w",
        "outputId": "6de2a23d-ce8b-4fbf-bec3-b266ece5f729"
      },
      "id": "HuJ2TsvTqv_w",
      "execution_count": 42,
      "outputs": [
        {
          "output_type": "stream",
          "name": "stdout",
          "text": [
            "['/content/drive/MyDrive/Dataset/aug/test/masks/118_0.png', '/content/drive/MyDrive/Dataset/aug/test/masks/124_0.png', '/content/drive/MyDrive/Dataset/aug/test/masks/147_0.png', '/content/drive/MyDrive/Dataset/aug/test/masks/154_0.png', '/content/drive/MyDrive/Dataset/aug/test/masks/161_0.png', '/content/drive/MyDrive/Dataset/aug/test/masks/162_0.png', '/content/drive/MyDrive/Dataset/aug/test/masks/171_0.png', '/content/drive/MyDrive/Dataset/aug/test/masks/184_0.png', '/content/drive/MyDrive/Dataset/aug/test/masks/188_0.png', '/content/drive/MyDrive/Dataset/aug/test/masks/19_0.png', '/content/drive/MyDrive/Dataset/aug/test/masks/219_0.png', '/content/drive/MyDrive/Dataset/aug/test/masks/225_0.png', '/content/drive/MyDrive/Dataset/aug/test/masks/261_0.png', '/content/drive/MyDrive/Dataset/aug/test/masks/262_0.png', '/content/drive/MyDrive/Dataset/aug/test/masks/301_0.png', '/content/drive/MyDrive/Dataset/aug/test/masks/303_0.png', '/content/drive/MyDrive/Dataset/aug/test/masks/30_0.png', '/content/drive/MyDrive/Dataset/aug/test/masks/55_0.png', '/content/drive/MyDrive/Dataset/aug/test/masks/95_0.png']\n"
          ]
        }
      ]
    },
    {
      "cell_type": "code",
      "source": [
        "print (pred_mask[0], true_mask[0])"
      ],
      "metadata": {
        "id": "2wCMuO_8lfei",
        "colab": {
          "base_uri": "https://localhost:8080/"
        },
        "outputId": "852edbd3-86de-4fa2-d432-d8d3a8c14da0"
      },
      "id": "2wCMuO_8lfei",
      "execution_count": 43,
      "outputs": [
        {
          "output_type": "stream",
          "name": "stdout",
          "text": [
            "Colab Notebooks/prediction/aug/118_0.png /content/drive/MyDrive/Dataset/aug/test/masks/118_0.png\n"
          ]
        }
      ]
    },
    {
      "cell_type": "code",
      "source": [
        "score = []\n",
        "for pred_y, true_y in tqdm(zip(pred_mask, true_mask), total=len(pred_mask)):\n",
        "  name = pred_y.split (\"/\")[-1]\n",
        "  pred_y = cv2. imread (pred_y, cv2.IMREAD_GRAYSCALE)\n",
        "  pred_y = pred_y/255\n",
        "  pred_y = pred_y > 0.5\n",
        "  pred_y = pred_y.astype(np.int32)\n",
        "  pred_y = pred_y.flatten()\n",
        "  true_y = cv2.imread (true_y, cv2.IMREAD_GRAYSCALE)\n",
        "  true_y = true_y/255.0\n",
        "  true_y = true_y > 0.5\n",
        "  true_y = true_y.astype(np.int32)\n",
        "  true_y = true_y.flatten()\n",
        "\n",
        "  acc_value = accuracy_score (pred_y, true_y)\n",
        "  f1_value = f1_score(pred_y, true_y, labels=[0, 1], average=\"binary\")\n",
        "  jac_value = jaccard_score(pred_y, true_y, labels=[0, 1], average=\"binary\")\n",
        "  recall_value = recall_score(pred_y, true_y, labels=[0, 1], average=\"binary\")\n",
        "  precision_value = precision_score(pred_y, true_y, labels=[0, 1], average=\"binary\")\n",
        "  score.append ([name, acc_value, f1_value, jac_value, recall_value, precision_value])"
      ],
      "metadata": {
        "id": "xf1fPLRbloT5",
        "colab": {
          "base_uri": "https://localhost:8080/"
        },
        "outputId": "cb2f0608-94b6-40a4-d965-42fbdf861e66"
      },
      "id": "xf1fPLRbloT5",
      "execution_count": 44,
      "outputs": [
        {
          "output_type": "stream",
          "name": "stderr",
          "text": [
            "100%|██████████| 19/19 [00:22<00:00,  1.19s/it]\n"
          ]
        }
      ]
    },
    {
      "cell_type": "code",
      "source": [
        "score = [s[1:] for s in score]"
      ],
      "metadata": {
        "id": "295iXGdImhdr"
      },
      "id": "295iXGdImhdr",
      "execution_count": 45,
      "outputs": []
    },
    {
      "cell_type": "code",
      "source": [
        "mean_score = np.mean(score, axis=0)"
      ],
      "metadata": {
        "id": "Chxp03EZnLT7"
      },
      "id": "Chxp03EZnLT7",
      "execution_count": 46,
      "outputs": []
    },
    {
      "cell_type": "code",
      "source": [
        "mean_score"
      ],
      "metadata": {
        "colab": {
          "base_uri": "https://localhost:8080/"
        },
        "id": "vRcJw7HsRwgG",
        "outputId": "80c60e9f-9726-42e5-eec4-4c9e2e70b9f0"
      },
      "id": "vRcJw7HsRwgG",
      "execution_count": 47,
      "outputs": [
        {
          "output_type": "execute_result",
          "data": {
            "text/plain": [
              "array([0.87141338, 0.63659348, 0.51450034, 0.80402727, 0.6948478 ])"
            ]
          },
          "metadata": {},
          "execution_count": 47
        }
      ]
    },
    {
      "cell_type": "code",
      "source": [
        "print(f\"Accuracy: {mean_score[0]:0.5f}\")\n",
        "print(f\"F1: {mean_score[1]:0.5f}\")\n",
        "print(f\"Jaccard: {mean_score[2]:0.5f}\")\n",
        "print(f\"Recall: {mean_score[3]:0.5f}\")\n",
        "print(f\"Precision: {mean_score[4]:0.5f}\")"
      ],
      "metadata": {
        "id": "WcqW0l7rnS0Y",
        "colab": {
          "base_uri": "https://localhost:8080/"
        },
        "outputId": "6ac9795a-046a-485f-8862-eea5ec8e5b84"
      },
      "id": "WcqW0l7rnS0Y",
      "execution_count": 48,
      "outputs": [
        {
          "output_type": "stream",
          "name": "stdout",
          "text": [
            "Accuracy: 0.87141\n",
            "F1: 0.63659\n",
            "Jaccard: 0.51450\n",
            "Recall: 0.80403\n",
            "Precision: 0.69485\n"
          ]
        }
      ]
    },
    {
      "cell_type": "code",
      "source": [],
      "metadata": {
        "id": "6LvQ-h3YqGK8"
      },
      "id": "6LvQ-h3YqGK8",
      "execution_count": null,
      "outputs": []
    }
  ],
  "metadata": {
    "kernelspec": {
      "display_name": "Python 3",
      "name": "python3"
    },
    "language_info": {
      "codemirror_mode": {
        "name": "ipython",
        "version": 3
      },
      "file_extension": ".py",
      "mimetype": "text/x-python",
      "name": "python",
      "nbconvert_exporter": "python",
      "pygments_lexer": "ipython3",
      "version": "3.10.9"
    },
    "colab": {
      "provenance": [],
      "gpuType": "T4",
      "include_colab_link": true
    },
    "accelerator": "GPU"
  },
  "nbformat": 4,
  "nbformat_minor": 5
}